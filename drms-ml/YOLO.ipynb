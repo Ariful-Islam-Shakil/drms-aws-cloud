{
 "cells": [
  {
   "cell_type": "code",
   "execution_count": 3,
   "id": "acfb711b",
   "metadata": {},
   "outputs": [],
   "source": [
    "import numpy as np\n",
    "import pandas as pd"
   ]
  },
  {
   "cell_type": "code",
   "execution_count": 2,
   "id": "c73ac2ca",
   "metadata": {},
   "outputs": [
    {
     "name": "stdout",
     "output_type": "stream",
     "text": [
      "[1 3 5 6]\n"
     ]
    }
   ],
   "source": [
    "print(np.array([1,3,5,6]))"
   ]
  },
  {
   "cell_type": "code",
   "execution_count": null,
   "id": "4660f9e1",
   "metadata": {},
   "outputs": [],
   "source": [
    "pip install ultralytics\n"
   ]
  },
  {
   "cell_type": "code",
   "execution_count": null,
   "id": "4c71790b",
   "metadata": {},
   "outputs": [],
   "source": [
    "pip install opencv-python"
   ]
  },
  {
   "cell_type": "code",
   "execution_count": null,
   "id": "1d7bb12f",
   "metadata": {},
   "outputs": [],
   "source": [
    "from ultralytics import YOLO\n",
    "import cv2\n",
    "\n",
    "# Load the pretrained YOLOv8 model (you can also use custom models)\n",
    "model = YOLO('yolov8n.pt')  # 'n' = nano (fastest), also try 's', 'm', 'l', 'x' for larger versions\n",
    "\n",
    "# Load an image\n",
    "image_path = 'YOLO.ipynb'\n",
    "image = cv2.imread(image_path)\n",
    "\n",
    "# Run detection\n",
    "results = model(image_path)\n",
    "\n",
    "# Show results\n",
    "results[0].show()  # displays image with bounding boxes\n",
    "\n",
    "# Access detection data\n",
    "for result in results:\n",
    "    for box in result.boxes:\n",
    "        cls_id = int(box.cls[0])\n",
    "        confidence = float(box.conf[0])\n",
    "        label = model.names[cls_id]\n",
    "        print(f\"Detected: {label}, Confidence: {confidence:.2f}\")\n"
   ]
  }
 ],
 "metadata": {
  "kernelspec": {
   "display_name": "Python 3",
   "language": "python",
   "name": "python3"
  },
  "language_info": {
   "codemirror_mode": {
    "name": "ipython",
    "version": 3
   },
   "file_extension": ".py",
   "mimetype": "text/x-python",
   "name": "python",
   "nbconvert_exporter": "python",
   "pygments_lexer": "ipython3",
   "version": "3.12.6"
  }
 },
 "nbformat": 4,
 "nbformat_minor": 5
}
